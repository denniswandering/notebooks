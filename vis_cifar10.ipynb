{
 "metadata": {
  "name": "",
  "signature": "sha256:d505b89fcce8f145433dc011d928d82e0e2c1946a8daba68b90513eda11b5cc6"
 },
 "nbformat": 3,
 "nbformat_minor": 0,
 "worksheets": [
  {
   "cells": [
    {
     "cell_type": "markdown",
     "metadata": {},
     "source": [
      "Environment setting-up"
     ]
    },
    {
     "cell_type": "code",
     "collapsed": false,
     "input": [
      "import numpy as np\n",
      "import matplotlib.pyplot as plt\n",
      "import cPickle\n",
      "%matplotlib inline\n",
      "caffe_root = '/home/chensi/my_caffe/'\n",
      "import sys\n",
      "sys.path.insert(0, caffe_root + 'python')\n",
      "\n",
      "import caffe\n",
      "\n",
      "plt.rcParams['figure.figsize'] = (10,10)\n",
      "plt.rcParams['image.interpolation'] = 'nearest'\n",
      "plt.rcParams['image.cmap'] = 'gray'"
     ],
     "language": "python",
     "metadata": {},
     "outputs": [],
     "prompt_number": 4
    },
    {
     "cell_type": "code",
     "collapsed": false,
     "input": [
      "from caffe.io import blobproto_to_array "
     ],
     "language": "python",
     "metadata": {},
     "outputs": [],
     "prompt_number": 5
    },
    {
     "cell_type": "markdown",
     "metadata": {},
     "source": [
      "Convert a binaryproto file into a npy file"
     ]
    },
    {
     "cell_type": "code",
     "collapsed": false,
     "input": [
      "import sys \n",
      "from caffe.proto import caffe_pb2 \n",
      "from caffe.io import blobproto_to_array \n",
      "blob = caffe_pb2.BlobProto() \n",
      "data = open(\"/data/sichen/data/cifar_mean.binaryproto\", \"rb\").read() \n",
      "blob.ParseFromString(data) \n",
      "nparray = blobproto_to_array(blob) \n",
      "nparray = np.squeeze(nparray)\n",
      "f = file(\"/data/sichen/data/mean.npy\",\"wb\") \n",
      "np.save(f,nparray) \n",
      "f.close() "
     ],
     "language": "python",
     "metadata": {},
     "outputs": [],
     "prompt_number": 6
    },
    {
     "cell_type": "code",
     "collapsed": false,
     "input": [
      "np.squeeze(nparray).shape"
     ],
     "language": "python",
     "metadata": {},
     "outputs": [
      {
       "metadata": {},
       "output_type": "pyout",
       "prompt_number": 7,
       "text": [
        "(3, 32, 32)"
       ]
      }
     ],
     "prompt_number": 7
    },
    {
     "cell_type": "code",
     "collapsed": false,
     "input": [
      "%%writefile deploy.prototxt\n",
      "name: \"CIFAR10_32326410\"\n",
      "input: \"data\"\n",
      "input_dim: 1\n",
      "input_dim: 3\n",
      "input_dim: 32\n",
      "input_dim: 32\n",
      "\n",
      "layers{\n",
      "    name: \"conv1\"\n",
      "    type: CONVOLUTION\n",
      "    bottom: \"data\"\n",
      "    top: \"conv1\"\n",
      "    blobs_lr:1\n",
      "    blobs_lr:2\n",
      "    convolution_param{\n",
      "        num_output:32\n",
      "        pad:2\n",
      "        kernel_size:5\n",
      "        stride:1\n",
      "        weight_filler{\n",
      "        \ttype: \"gaussian\"\n",
      "        \tstd: 0.0001\n",
      "        }\n",
      "        bias_filler{\n",
      "        \ttype: \"constant\"\n",
      "        \tvalue: 1\n",
      "        }\n",
      "    }\n",
      "}\n",
      "layers{\n",
      "\tname:\"relu1\"\n",
      "\ttype:RELU\n",
      "\tbottom:\"conv1\"\n",
      "\ttop:\"relu1\"\n",
      "}\n",
      "layers{\n",
      "\tname: \"pool1\"\n",
      "\ttype: POOLING\n",
      "\tbottom: \"relu1\"\n",
      "\ttop: \"pool1\"\n",
      "\tpooling_param{\n",
      "\t\tpool:MAX\n",
      "\t\tkernel_size:3\n",
      "\t\tstride:2\n",
      "\t}\n",
      "\t\n",
      "}\n",
      "\n",
      "layers{\n",
      "    name: \"conv2\"\n",
      "    type: CONVOLUTION\n",
      "    bottom: \"pool1\"\n",
      "    top: \"conv2\"\n",
      "    blobs_lr:1\n",
      "    blobs_lr:2\n",
      "    convolution_param{\n",
      "        num_output:32\n",
      "        pad:2\n",
      "        kernel_size:5\n",
      "        stride:1\n",
      "        weight_filler{\n",
      "        \ttype: \"gaussian\"\n",
      "        \tstd: 0.01\n",
      "        }\n",
      "        bias_filler{\n",
      "        \ttype: \"constant\"\n",
      "        \tvalue: 1\n",
      "        }\n",
      "    }\n",
      "}\n",
      "layers{\n",
      "\tname:\"relu2\"\n",
      "\ttype:RELU\n",
      "\tbottom:\"conv2\"\n",
      "\ttop:\"relu2\"\n",
      "}\n",
      "layers{\n",
      "\tname: \"pool2\"\n",
      "\ttype: POOLING\n",
      "\tbottom: \"relu2\"\n",
      "\ttop: \"pool2\"\n",
      "\tpooling_param{\n",
      "\t\tpool:AVE\n",
      "\t\tkernel_size:3\n",
      "\t\tstride:2\n",
      "\t}\n",
      "}\n",
      "\n",
      "layers{\n",
      "    name: \"conv3\"\n",
      "    type: CONVOLUTION\n",
      "    bottom: \"pool2\"\n",
      "    top: \"conv3\"\n",
      "    blobs_lr:1\n",
      "    blobs_lr:2\n",
      "    convolution_param{\n",
      "        num_output:64\n",
      "        pad:2\n",
      "        kernel_size:5\n",
      "        stride:1\n",
      "        weight_filler{\n",
      "        \ttype: \"gaussian\"\n",
      "        \tstd: 0.01\n",
      "        }\n",
      "        bias_filler{\n",
      "        \ttype: \"constant\"\n",
      "        \tvalue: 1\n",
      "        }\n",
      "    }\n",
      "}\n",
      "layers{\n",
      "\tname:\"relu3\"\n",
      "\ttype:RELU\n",
      "\tbottom:\"conv3\"\n",
      "\ttop:\"relu3\"\n",
      "}\n",
      "layers{\n",
      "\tname: \"pool3\"\n",
      "\ttype: POOLING\n",
      "\tbottom: \"relu3\"\n",
      "\ttop: \"pool3\"\n",
      "\tpooling_param{\n",
      "\t\tpool:AVE\n",
      "\t\tkernel_size:3\n",
      "\t\tstride:2\n",
      "\t}\n",
      "}\n",
      "\n",
      "layers{\n",
      "\tname: \"ip1\"\n",
      "\ttype: INNER_PRODUCT\n",
      "\tbottom: \"pool3\"\n",
      "\ttop: \"ip1\"\n",
      "\tblobs_lr: 1\n",
      "\tblobs_lr: 2\n",
      "    weight_decay: 750\n",
      "    weight_decay: 0\n",
      "\tinner_product_param{\n",
      "\t\tnum_output: 10\n",
      "\t\tweight_filler{\n",
      "\t\t\ttype: \"gaussian\"\n",
      "\t\t\tstd:0.01\n",
      "\t\t}\n",
      "\t\tbias_filler{\n",
      "\t\t\ttype: \"constant\"\n",
      "\t\t}\n",
      "\t}\n",
      "}\n",
      "layers{\n",
      "\tname: \"prob\"\n",
      "\ttype: SOFTMAX\n",
      "\tbottom: \"ip1\"\n",
      "    top: \"prob\"\n",
      "}\n",
      "\n",
      "\n",
      "\n",
      "\n",
      "\n",
      "\n"
     ],
     "language": "python",
     "metadata": {},
     "outputs": [
      {
       "output_type": "stream",
       "stream": "stdout",
       "text": [
        "Overwriting deploy.prototxt\n"
       ]
      }
     ],
     "prompt_number": 85
    },
    {
     "cell_type": "code",
     "collapsed": false,
     "input": [
      "net = caffe.Classifier('deploy.prototxt',\n",
      "                       '/home/chensi/mylocal/sichen/ipython_notebooks/baseline/baseline_iter_100000')\n",
      "net.set_phase_test()\n",
      "net.set_mode_gpu()\n",
      "net.set_mean('data','/data/sichen/data/mean.npy')\n",
      "net.set_input_scale('data',255)\n",
      "net.set_channel_swap('data',(2,1,0))\n"
     ],
     "language": "python",
     "metadata": {},
     "outputs": [],
     "prompt_number": 86
    },
    {
     "cell_type": "code",
     "collapsed": false,
     "input": [
      "mean = np.load('/data/sichen/data/mean.npy')"
     ],
     "language": "python",
     "metadata": {},
     "outputs": [],
     "prompt_number": 87
    },
    {
     "cell_type": "code",
     "collapsed": false,
     "input": [
      "in_shape=net.blobs['data'].data.shape\n",
      "print in_shape"
     ],
     "language": "python",
     "metadata": {},
     "outputs": [
      {
       "output_type": "stream",
       "stream": "stdout",
       "text": [
        "(1, 3, 32, 32)\n"
       ]
      }
     ],
     "prompt_number": 88
    },
    {
     "cell_type": "code",
     "collapsed": false,
     "input": [
      "mean.shape"
     ],
     "language": "python",
     "metadata": {},
     "outputs": [
      {
       "metadata": {},
       "output_type": "pyout",
       "prompt_number": 89,
       "text": [
        "(3, 32, 32)"
       ]
      }
     ],
     "prompt_number": 89
    },
    {
     "cell_type": "code",
     "collapsed": false,
     "input": [
      "data_root = '/home/chensi/mylocal/sichen/data/cifar-10-batches-py/'"
     ],
     "language": "python",
     "metadata": {},
     "outputs": [],
     "prompt_number": 90
    },
    {
     "cell_type": "code",
     "collapsed": false,
     "input": [
      "def load_cifar_data(data_root):\n",
      "    print 'loading data...'\n",
      "    for batch in range(5):\n",
      "        fo = open(data_root+'data_batch_' + str(batch+1),'rb')\n",
      "        data = cPickle.load(fo)\n",
      "        if batch == 0:\n",
      "            feature = data['data']\n",
      "            label = data['labels']\n",
      "        else:\n",
      "            feature = np.concatenate((feature,data['data']),axis=0)\n",
      "            label = np.concatenate((label,data['labels']),axis=0)\n",
      "        fo.close()\n",
      "    return feature, label"
     ],
     "language": "python",
     "metadata": {},
     "outputs": [],
     "prompt_number": 91
    },
    {
     "cell_type": "code",
     "collapsed": false,
     "input": [
      "original_data, label = load_cifar_data(data_root)"
     ],
     "language": "python",
     "metadata": {},
     "outputs": [
      {
       "output_type": "stream",
       "stream": "stdout",
       "text": [
        "loading data...\n"
       ]
      }
     ],
     "prompt_number": 92
    },
    {
     "cell_type": "code",
     "collapsed": false,
     "input": [
      "original_data[1,:]"
     ],
     "language": "python",
     "metadata": {},
     "outputs": [
      {
       "metadata": {},
       "output_type": "pyout",
       "prompt_number": 93,
       "text": [
        "array([154, 126, 105, ..., 139, 142, 144], dtype=uint8)"
       ]
      }
     ],
     "prompt_number": 93
    },
    {
     "cell_type": "code",
     "collapsed": false,
     "input": [
      "def sort_images(data, label):\n",
      "    sorted_data = np.zeros_like(data)\n",
      "    idx = 0\n",
      "    for k in range(10):\n",
      "        for i in range(50000):\n",
      "            if label[i] == k:\n",
      "                sorted_data[idx,:] = data[i,:]\n",
      "                idx = idx + 1\n",
      "    return sorted_data"
     ],
     "language": "python",
     "metadata": {},
     "outputs": [],
     "prompt_number": 94
    },
    {
     "cell_type": "code",
     "collapsed": false,
     "input": [
      "sorted_data = sort_images(original_data, label)"
     ],
     "language": "python",
     "metadata": {},
     "outputs": [],
     "prompt_number": 95
    },
    {
     "cell_type": "code",
     "collapsed": false,
     "input": [
      "sorted_data.shape"
     ],
     "language": "python",
     "metadata": {},
     "outputs": [
      {
       "metadata": {},
       "output_type": "pyout",
       "prompt_number": 96,
       "text": [
        "(50000, 3072)"
       ]
      }
     ],
     "prompt_number": 96
    },
    {
     "cell_type": "code",
     "collapsed": false,
     "input": [
      "sorted_data[1,:]"
     ],
     "language": "python",
     "metadata": {},
     "outputs": [
      {
       "metadata": {},
       "output_type": "pyout",
       "prompt_number": 97,
       "text": [
        "array([126, 122, 126, ..., 109, 107, 102], dtype=uint8)"
       ]
      }
     ],
     "prompt_number": 97
    },
    {
     "cell_type": "code",
     "collapsed": false,
     "input": [
      "data=sorted_data.reshape(50000,3,32,32)"
     ],
     "language": "python",
     "metadata": {},
     "outputs": [],
     "prompt_number": 98
    },
    {
     "cell_type": "code",
     "collapsed": false,
     "input": [
      "data = data/255.0"
     ],
     "language": "python",
     "metadata": {},
     "outputs": [],
     "prompt_number": 99
    },
    {
     "cell_type": "code",
     "collapsed": false,
     "input": [
      "data=data.astype('float32')"
     ],
     "language": "python",
     "metadata": {},
     "outputs": [],
     "prompt_number": 100
    },
    {
     "cell_type": "code",
     "collapsed": false,
     "input": [
      "def showimage(im):\n",
      "    if im.ndim == 3:\n",
      "        im = im[:, :, ::-1]\n",
      "    plt.imshow(im)"
     ],
     "language": "python",
     "metadata": {},
     "outputs": [],
     "prompt_number": 101
    },
    {
     "cell_type": "code",
     "collapsed": false,
     "input": [
      "def vis_square(data, padsize=1, padval=0):\n",
      "    data = data.copy()\n",
      "    data -= data.min()\n",
      "    data /= data.max()\n",
      "    # force the number of filters to be square\n",
      "    n = int(np.ceil(np.sqrt(data.shape[0])))\n",
      "    padding = ((0, n ** 2 - data.shape[0]), (0, padsize), (0, padsize)) + ((0, 0),) * (data.ndim - 3)\n",
      "    data = np.pad(data, padding, mode='constant', constant_values=(padval, padval))\n",
      "    \n",
      "    # tile the filters into an image\n",
      "    data = data.reshape((n, n) + data.shape[1:]).transpose((0, 2, 1, 3) + tuple(range(4, data.ndim + 1)))\n",
      "    data = data.reshape((n * data.shape[1], n * data.shape[3]) + data.shape[4:])\n",
      "    \n",
      "    showimage(data)"
     ],
     "language": "python",
     "metadata": {},
     "outputs": [],
     "prompt_number": 102
    },
    {
     "cell_type": "code",
     "collapsed": false,
     "input": [
      "vis_square(data[0:1].transpose(0,2,3,1).copy())"
     ],
     "language": "python",
     "metadata": {},
     "outputs": [
      {
       "metadata": {},
       "output_type": "display_data",
       "png": "[encoded data removed]",
       "text": [
        "<matplotlib.figure.Figure at 0x7de1390>"
       ]
      }
     ],
     "prompt_number": 103
    },
    {
     "cell_type": "code",
     "collapsed": false,
     "input": [
      "data[1,:].shape"
     ],
     "language": "python",
     "metadata": {},
     "outputs": [
      {
       "metadata": {},
       "output_type": "pyout",
       "prompt_number": 104,
       "text": [
        "(3, 32, 32)"
       ]
      }
     ],
     "prompt_number": 104
    },
    {
     "cell_type": "code",
     "collapsed": false,
     "input": [
      "net.predict([data[0,:].transpose(1,2,0)],oversample=False)"
     ],
     "language": "python",
     "metadata": {},
     "outputs": [
      {
       "metadata": {},
       "output_type": "pyout",
       "prompt_number": 105,
       "text": [
        "array([[  8.75473917e-01,   2.75740662e-04,   2.03651283e-02,\n",
        "          2.12551411e-02,   1.00500537e-02,   8.21400899e-03,\n",
        "          1.16630029e-02,   3.35580693e-03,   4.76321541e-02,\n",
        "          1.71508454e-03]], dtype=float32)"
       ]
      }
     ],
     "prompt_number": 105
    },
    {
     "cell_type": "code",
     "collapsed": false,
     "input": [
      "filters = net.params['conv1'][0].data\n",
      "vis_square(filters.transpose(0,2,3,1))\n"
     ],
     "language": "python",
     "metadata": {},
     "outputs": [
      {
       "metadata": {},
       "output_type": "display_data",
       "png": "[encoded data removed]",
       "text": [
        "<matplotlib.figure.Figure at 0x7cf1290>"
       ]
      }
     ],
     "prompt_number": 112
    },
    {
     "cell_type": "code",
     "collapsed": false,
     "input": [
      "net.blobs['data'].data.shape"
     ],
     "language": "python",
     "metadata": {},
     "outputs": [
      {
       "metadata": {},
       "output_type": "pyout",
       "prompt_number": 107,
       "text": [
        "(1, 3, 32, 32)"
       ]
      }
     ],
     "prompt_number": 107
    },
    {
     "cell_type": "code",
     "collapsed": false,
     "input": [
      "feat = net.blobs['relu1'].data[0,:]\n",
      "vis_square(feat, padval=1)"
     ],
     "language": "python",
     "metadata": {},
     "outputs": [
      {
       "metadata": {},
       "output_type": "display_data",
       "png": "[encoded data removed]",
       "text": [
        "<matplotlib.figure.Figure at 0x7e6a5d0>"
       ]
      }
     ],
     "prompt_number": 115
    },
    {
     "cell_type": "code",
     "collapsed": false,
     "input": [
      "feat = net.blobs['relu2'].data[0,:]\n",
      "vis_square(feat, padval=1)"
     ],
     "language": "python",
     "metadata": {},
     "outputs": [
      {
       "metadata": {},
       "output_type": "display_data",
       "png": "[encoded data removed]",
       "text": [
        "<matplotlib.figure.Figure at 0x78bb150>"
       ]
      }
     ],
     "prompt_number": 116
    },
    {
     "cell_type": "code",
     "collapsed": false,
     "input": [
      "feat.shape"
     ],
     "language": "python",
     "metadata": {},
     "outputs": [
      {
       "metadata": {},
       "output_type": "pyout",
       "prompt_number": 117,
       "text": [
        "(32, 16, 16)"
       ]
      }
     ],
     "prompt_number": 117
    },
    {
     "cell_type": "code",
     "collapsed": false,
     "input": [
      "feat = net.blobs['relu3'].data[0,:]\n",
      "vis_square(feat, padval=1)"
     ],
     "language": "python",
     "metadata": {},
     "outputs": [
      {
       "metadata": {},
       "output_type": "display_data",
       "png": "[encoded data removed]",
       "text": [
        "<matplotlib.figure.Figure at 0x7e6a250>"
       ]
      }
     ],
     "prompt_number": 118
    },
    {
     "cell_type": "code",
     "collapsed": false,
     "input": [],
     "language": "python",
     "metadata": {},
     "outputs": [],
     "prompt_number": 110
    },
    {
     "cell_type": "code",
     "collapsed": false,
     "input": [],
     "language": "python",
     "metadata": {},
     "outputs": [],
     "prompt_number": 110
    },
    {
     "cell_type": "code",
     "collapsed": false,
     "input": [],
     "language": "python",
     "metadata": {},
     "outputs": [],
     "prompt_number": 110
    },
    {
     "cell_type": "code",
     "collapsed": false,
     "input": [],
     "language": "python",
     "metadata": {},
     "outputs": [],
     "prompt_number": 110
    },
    {
     "cell_type": "code",
     "collapsed": false,
     "input": [],
     "language": "python",
     "metadata": {},
     "outputs": []
    }
   ],
   "metadata": {}
  }
 ]
}