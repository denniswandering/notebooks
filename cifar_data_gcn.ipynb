{
 "metadata": {
  "name": "",
  "signature": "sha256:9f0c351aa98444974a67357638ab2f507c01886535c495b8223910ce0c94d73a"
 },
 "nbformat": 3,
 "nbformat_minor": 0,
 "worksheets": [
  {
   "cells": [
    {
     "cell_type": "code",
     "collapsed": false,
     "input": [
      "!ls"
     ],
     "language": "python",
     "metadata": {},
     "outputs": [
      {
       "output_type": "stream",
       "stream": "stdout",
       "text": [
        "cifar10_32326410_solver.prototxt  cifar_data_gcn.ipynb\ttrain_cifar.ipynb\r\n",
        "cifar10_32326410_test.prototxt\t  test.ipynb\r\n",
        "cifar10_32326410_train.prototxt   train_323264.sh\r\n"
       ]
      }
     ],
     "prompt_number": 3
    },
    {
     "cell_type": "code",
     "collapsed": false,
     "input": [
      "data_root = '/home/chensi/mylocal/sichen/data/cifar-10-gcn/'"
     ],
     "language": "python",
     "metadata": {},
     "outputs": [],
     "prompt_number": 4
    },
    {
     "cell_type": "code",
     "collapsed": false,
     "input": [
      "import cPickle\n",
      "import numpy"
     ],
     "language": "python",
     "metadata": {},
     "outputs": [],
     "prompt_number": 5
    },
    {
     "cell_type": "code",
     "collapsed": false,
     "input": [
      "data_1_file = open(data_root+'data_batch_5','rb')\n",
      "data1 = cPickle.load(data_1_file)"
     ],
     "language": "python",
     "metadata": {},
     "outputs": [],
     "prompt_number": 7
    },
    {
     "cell_type": "code",
     "collapsed": false,
     "input": [
      "data = data1['data']\n",
      "print data\n",
      "print data[:,0].shape\n"
     ],
     "language": "python",
     "metadata": {},
     "outputs": [
      {
       "output_type": "stream",
       "stream": "stdout",
       "text": [
        "[[-0.00610956  0.01649053  0.9723438  ..., -1.44343889 -0.13881977\n",
        "   0.28916857]\n",
        " [-0.09206689  0.0270116  -0.18150978 ..., -0.9954474  -0.17501064\n",
        "   0.17545536]\n",
        " [-0.05878958  0.0278388  -1.21535027 ..., -0.84879494 -0.21502067\n",
        "   0.05358476]\n",
        " ..., \n",
        " [ 0.08150169  0.21402395 -0.40572283 ...,  0.24865592 -0.01892437\n",
        "   0.39442828]\n",
        " [ 1.03826582  0.11450201 -0.28555807 ...,  0.23141269  0.06897297\n",
        "  -0.20046331]\n",
        " [ 0.48911905  0.13597357 -0.28365946 ...,  0.02486086  0.14584947\n",
        "  -0.32914042]]\n",
        "(3072,)\n"
       ]
      }
     ],
     "prompt_number": 8
    },
    {
     "cell_type": "code",
     "collapsed": false,
     "input": [
      "labels = data1['labels']\n",
      "print len(labels)"
     ],
     "language": "python",
     "metadata": {},
     "outputs": [
      {
       "output_type": "stream",
       "stream": "stdout",
       "text": [
        "10000\n"
       ]
      }
     ],
     "prompt_number": 9
    },
    {
     "cell_type": "code",
     "collapsed": false,
     "input": [
      "labels[-10:]"
     ],
     "language": "python",
     "metadata": {},
     "outputs": [
      {
       "metadata": {},
       "output_type": "pyout",
       "prompt_number": 13,
       "text": [
        "[4, 2, 0, 1, 0, 2, 6, 9, 1, 1]"
       ]
      }
     ],
     "prompt_number": 13
    },
    {
     "cell_type": "code",
     "collapsed": false,
     "input": [
      "labels = numpy.array(labels)\n",
      "print labels.shape"
     ],
     "language": "python",
     "metadata": {},
     "outputs": [
      {
       "output_type": "stream",
       "stream": "stdout",
       "text": [
        "(10000,)\n"
       ]
      }
     ],
     "prompt_number": 22
    },
    {
     "cell_type": "code",
     "collapsed": false,
     "input": [
      "labels.dtype"
     ],
     "language": "python",
     "metadata": {},
     "outputs": [
      {
       "metadata": {},
       "output_type": "pyout",
       "prompt_number": 23,
       "text": [
        "dtype('int64')"
       ]
      }
     ],
     "prompt_number": 23
    },
    {
     "cell_type": "code",
     "collapsed": false,
     "input": [
      "labels = labels.astype('float32')\n",
      "labels.dtype\n",
      "labels"
     ],
     "language": "python",
     "metadata": {},
     "outputs": [
      {
       "metadata": {},
       "output_type": "pyout",
       "prompt_number": 33,
       "text": [
        "array([ 6.,  9.,  9., ...,  1.,  1.,  5.], dtype=float32)"
       ]
      }
     ],
     "prompt_number": 33
    },
    {
     "cell_type": "code",
     "collapsed": false,
     "input": [
      "data[:,0]"
     ],
     "language": "python",
     "metadata": {},
     "outputs": [
      {
       "metadata": {},
       "output_type": "pyout",
       "prompt_number": 36,
       "text": [
        "array([-0.51046538, -1.01911998, -0.98101383, ...,  1.83303523,\n",
        "        0.0104192 ,  0.22336423], dtype=float32)"
       ]
      }
     ],
     "prompt_number": 36
    },
    {
     "cell_type": "code",
     "collapsed": false,
     "input": [
      "labels[0]"
     ],
     "language": "python",
     "metadata": {},
     "outputs": [
      {
       "ename": "NameError",
       "evalue": "name 'labels' is not defined",
       "output_type": "pyerr",
       "traceback": [
        "\u001b[1;31m---------------------------------------------------------------------------\u001b[0m\n\u001b[1;31mNameError\u001b[0m                                 Traceback (most recent call last)",
        "\u001b[1;32m<ipython-input-2-a87943f7b9b3>\u001b[0m in \u001b[0;36m<module>\u001b[1;34m()\u001b[0m\n\u001b[1;32m----> 1\u001b[1;33m \u001b[0mlabels\u001b[0m\u001b[1;33m[\u001b[0m\u001b[1;36m0\u001b[0m\u001b[1;33m]\u001b[0m\u001b[1;33m\u001b[0m\u001b[0m\n\u001b[0m",
        "\u001b[1;31mNameError\u001b[0m: name 'labels' is not defined"
       ]
      }
     ],
     "prompt_number": 2
    },
    {
     "cell_type": "code",
     "collapsed": false,
     "input": [
      "def pkl2bin_cifar(bin_filename,pickle_file_path):\n",
      "    data_file = open(pickle_file_path,'rb')\n",
      "    data_total = cPickle.load(data_file)\n",
      "    data_file.close()\n",
      "    data = data_total['data']\n",
      "    data = data.astype('float32')\n",
      "    labels = numpy.array(data_total['labels'])\n",
      "    labels = labels.astype('float32')\n",
      "    \n",
      "    bin_file = open(bin_filename,'wb')\n",
      "    for i in range(10000):\n",
      "        t_label = labels[i]\n",
      "        t_label.tofile(bin_file)\n",
      "        t_data = data[:,i]\n",
      "        t_data.tofile(bin_file)\n",
      "    bin_file.close()\n",
      "        \n",
      "    \n",
      "    "
     ],
     "language": "python",
     "metadata": {},
     "outputs": [],
     "prompt_number": 41
    },
    {
     "cell_type": "code",
     "collapsed": false,
     "input": [
      "pkl2bin_cifar('test.bin',data_root + 'data_batch_1')"
     ],
     "language": "python",
     "metadata": {},
     "outputs": [],
     "prompt_number": 42
    },
    {
     "cell_type": "code",
     "collapsed": false,
     "input": [
      "(1+3072)*4*10000\n"
     ],
     "language": "python",
     "metadata": {},
     "outputs": [
      {
       "metadata": {},
       "output_type": "pyout",
       "prompt_number": 44,
       "text": [
        "122920000"
       ]
      }
     ],
     "prompt_number": 44
    },
    {
     "cell_type": "code",
     "collapsed": false,
     "input": [
      "bin_root = '/home/chensi/mylocal/sichen/data/cifar-10-gcn-bin/'"
     ],
     "language": "python",
     "metadata": {},
     "outputs": [],
     "prompt_number": 45
    },
    {
     "cell_type": "code",
     "collapsed": false,
     "input": [
      "str(2)"
     ],
     "language": "python",
     "metadata": {},
     "outputs": [
      {
       "metadata": {},
       "output_type": "pyout",
       "prompt_number": 46,
       "text": [
        "'2'"
       ]
      }
     ],
     "prompt_number": 46
    },
    {
     "cell_type": "code",
     "collapsed": false,
     "input": [
      "for i in range(6):\n",
      "    name = 'data_batch_' + str(i+1)\n",
      "    name_bin = name + '.bin'\n",
      "    pkl2bin_cifar(bin_root+name_bin,data_root + name)\n",
      "    print 'finished:' + str(i+1)"
     ],
     "language": "python",
     "metadata": {},
     "outputs": [
      {
       "output_type": "stream",
       "stream": "stdout",
       "text": [
        "finished:1\n",
        "finished:2"
       ]
      },
      {
       "output_type": "stream",
       "stream": "stdout",
       "text": [
        "\n",
        "finished:3"
       ]
      },
      {
       "output_type": "stream",
       "stream": "stdout",
       "text": [
        "\n",
        "finished:4"
       ]
      },
      {
       "output_type": "stream",
       "stream": "stdout",
       "text": [
        "\n",
        "finished:5"
       ]
      },
      {
       "output_type": "stream",
       "stream": "stdout",
       "text": [
        "\n",
        "finished:6"
       ]
      },
      {
       "output_type": "stream",
       "stream": "stdout",
       "text": [
        "\n"
       ]
      }
     ],
     "prompt_number": 47
    },
    {
     "cell_type": "code",
     "collapsed": false,
     "input": [],
     "language": "python",
     "metadata": {},
     "outputs": [
      {
       "output_type": "stream",
       "stream": "stdout",
       "text": [
        "a\n"
       ]
      }
     ],
     "prompt_number": 1
    },
    {
     "cell_type": "code",
     "collapsed": false,
     "input": [],
     "language": "python",
     "metadata": {},
     "outputs": []
    }
   ],
   "metadata": {}
  }
 ]
}