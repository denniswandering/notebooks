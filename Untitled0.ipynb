{
 "metadata": {
  "name": "",
  "signature": "sha256:bf99f5696c5889ab155ba44c21bc05707cb2f2a2bdeae6e34bfe7945a5fec743"
 },
 "nbformat": 3,
 "nbformat_minor": 0,
 "worksheets": [
  {
   "cells": [
    {
     "cell_type": "code",
     "collapsed": false,
     "input": [
      "!ls"
     ],
     "language": "python",
     "metadata": {},
     "outputs": [
      {
       "output_type": "stream",
       "stream": "stdout",
       "text": [
        "1v1svm\t\t\t\t      ECE273.tar\r\n",
        "cifar0603.log\t\t\t      L2DLSVM.ipynb\r\n",
        "cifar0603_resume.log\t\t      mcsvm\r\n",
        "cifar10_32326410_deploy.prototxt      resume.log\r\n",
        "cifar10_32326410_solver_gcn.prototxt  resume_train_323264d.sh\r\n",
        "cifar10_32326410_solver.prototxt      resume_train_323264.sh\r\n",
        "cifar10_32326410_test_gcn.prototxt    resume_train.sh\r\n",
        "cifar10_32326410_test.prototxt\t      test.ipynb\r\n",
        "cifar10_32326410_train_gcn.prototxt   train_323264d10.ipynb\r\n",
        "cifar10_32326410_train.prototxt       train_323264d.sh\r\n",
        "cifar10_323264d10_solver.prototxt     train_323264_gcn.sh\r\n",
        "cifar10_323264d10_test.prototxt       train_323264_resume.sh\r\n",
        "cifar10_323264d10_train.prototxt      train_323264.sh\r\n",
        "cifar_data_gcn.ipynb\t\t      train_cifar10_32326410.ipynb\r\n",
        "dlsvm\t\t\t\t      train_cifar_gcn.ipynb\r\n",
        "dlsvml2\t\t\t\t      Untitled0.ipynb\r\n",
        "ECE273\t\t\t\t      vis_cifar10.ipynb\r\n"
       ]
      }
     ],
     "prompt_number": 1
    },
    {
     "cell_type": "code",
     "collapsed": false,
     "input": [],
     "language": "python",
     "metadata": {},
     "outputs": []
    }
   ],
   "metadata": {}
  }
 ]
}